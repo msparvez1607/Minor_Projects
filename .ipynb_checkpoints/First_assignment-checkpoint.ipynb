{
 "cells": [
  {
   "cell_type": "code",
   "execution_count": 1,
   "id": "166d8e18-26bf-4732-8488-cc12fd6a4b80",
   "metadata": {},
   "outputs": [
    {
     "data": {
      "text/plain": [
       "' Key'"
      ]
     },
     "execution_count": 1,
     "metadata": {},
     "output_type": "execute_result"
    }
   ],
   "source": [
    "#Explain the key features of Python that make it a popular choice for programming\n",
    "#Key features of Python that make it a popular chkice for programming are:-\n",
    "#1) Readability and Simplicity: Simple syntax making it easier for beginner and expert to code efficiently.\n",
    "#2) Versatility: Suitable for many applications like web development, data analysis, machine learning, artificial intelligence, scientific computing, automation, and more\n",
    "#3)Extensive Standard Library: Offers Standard libraries to shorten code length as well as reduction in time consumption while coding\n",
    "#4)Large Ecosystem and Community Support:Large active commuunity also contributes to a wealth of resources, tutorials, and support forums.\n",
    "#5)Dynamic Typing: Variables type are determined during runtime \n",
    "#6)Support for Multiple Programming Paradigms: Python supports various programming paradigms, including procedural, object-oriented, and functional programming, allowing developers to choose the best approach for their specific tasks.\n",
    "#7)Integration Capabilities: Python can easily integrate with other languages and technologies. It supports calling C/C++ code and can interact with Java, .NET, and web services, making it suitable for complex applications.\n",
    "#8)Interpreted Language: As an interpreted language, Python executes code line by line, which simplifies debugging and allows for interactive testing and development using tools like REPL (Read-Eval-Print Loop)."
   ]
  },
  {
   "cell_type": "code",
   "execution_count": null,
   "id": "9ac9b822-1b91-455a-ad12-35c2860f466f",
   "metadata": {},
   "outputs": [],
   "source": [
    "#Describe the role of predefined keywords in Python and provide examples of how they are used in a program\n",
    "#Predefined keywords in Python are reserved words that have special meanings and are part of the language's syntax. These keywords cannot be used as identifiers (e.g., variable names, function names) and are essential for defining the structure and behavior of Python programs."
   ]
  },
  {
   "cell_type": "code",
   "execution_count": 2,
   "id": "da669c0f-975d-4ec0-b24e-9c9dbd0d73a9",
   "metadata": {},
   "outputs": [
    {
     "name": "stdout",
     "output_type": "stream",
     "text": [
      "x is greater than 5\n",
      "0\n",
      "1\n",
      "2\n",
      "3\n",
      "4\n",
      "10\n",
      "9\n",
      "8\n",
      "7\n",
      "6\n",
      "5\n",
      "4\n",
      "3\n",
      "2\n",
      "1\n",
      "1\n",
      "3\n"
     ]
    }
   ],
   "source": [
    "#Control Flow: Keywords like if, else, elif, for, while, break, continue, and pass control the flow of execution in a program.\n",
    "# Using if, elif, and else for conditional execution\n",
    "x = 10\n",
    "if x > 5:\n",
    "    print(\"x is greater than 5\")\n",
    "elif x == 5:\n",
    "    print(\"x is equal to 5\")\n",
    "else:\n",
    "    print(\"x is less than 5\")\n",
    "\n",
    "# Using for and while loops\n",
    "for i in range(5):\n",
    "    print(i)\n",
    "\n",
    "while x > 0:\n",
    "    print(x)\n",
    "    x -= 1\n",
    "\n",
    "# Using break and continue\n",
    "for i in range(10):\n",
    "    if i == 5:\n",
    "        break  # Exit the loop\n",
    "    if i % 2 == 0:\n",
    "        continue  # Skip the rest of the loop body for even numbers\n",
    "    print(i)\n"
   ]
  },
  {
   "cell_type": "code",
   "execution_count": 3,
   "id": "023ae6fe-0504-41bb-8c58-67d3a8e1f8fd",
   "metadata": {},
   "outputs": [
    {
     "name": "stdout",
     "output_type": "stream",
     "text": [
      "Hello, Alice!\n",
      "Buddy says woof!\n"
     ]
    }
   ],
   "source": [
    "#Defining Functions and Classes: Keywords such as def, class, and return are used to define functions and classes.\n",
    "# Using def to define a function\n",
    "def greet(name):\n",
    "    return f\"Hello, {name}!\"\n",
    "\n",
    "print(greet(\"Alice\"))\n",
    "\n",
    "# Using class to define a class\n",
    "class Dog:\n",
    "    def __init__(self, name):\n",
    "        self.name = name\n",
    "    \n",
    "    def bark(self):\n",
    "        return f\"{self.name} says woof!\"\n",
    "\n",
    "dog = Dog(\"Buddy\")\n",
    "print(dog.bark())\n"
   ]
  },
  {
   "cell_type": "code",
   "execution_count": 4,
   "id": "5de78e9b-68d9-494a-98f9-54428db5491d",
   "metadata": {},
   "outputs": [
    {
     "name": "stdin",
     "output_type": "stream",
     "text": [
      "Enter a number:  3.4\n"
     ]
    },
    {
     "name": "stdout",
     "output_type": "stream",
     "text": [
      "Invalid input! Please enter a number.\n",
      "This block always executes.\n"
     ]
    }
   ],
   "source": [
    "#Handling Exceptions: Keywords like try, except, finally, raise, and assert manage exceptions and errors in a program.\n",
    "# Using try, except, finally, and raise for exception handling\n",
    "try:\n",
    "    num = int(input(\"Enter a number: \"))\n",
    "    result = 10 / num\n",
    "except ZeroDivisionError:\n",
    "    print(\"You can't divide by zero!\")\n",
    "except ValueError:\n",
    "    print(\"Invalid input! Please enter a number.\")\n",
    "else:\n",
    "    print(\"The result is\", result)\n",
    "finally:\n",
    "    print(\"This block always executes.\")\n"
   ]
  },
  {
   "cell_type": "code",
   "execution_count": 5,
   "id": "6a943a8f-5df4-4bee-a7e3-04029bfd6aee",
   "metadata": {},
   "outputs": [
    {
     "name": "stdout",
     "output_type": "stream",
     "text": [
      "4.0\n",
      "2024-08-02 17:50:36.653074\n"
     ]
    },
    {
     "ename": "SyntaxError",
     "evalue": "no binding for nonlocal 'x' found (1440419553.py, line 16)",
     "output_type": "error",
     "traceback": [
      "\u001b[0;36m  Cell \u001b[0;32mIn[5], line 16\u001b[0;36m\u001b[0m\n\u001b[0;31m    nonlocal x\u001b[0m\n\u001b[0m    ^\u001b[0m\n\u001b[0;31mSyntaxError\u001b[0m\u001b[0;31m:\u001b[0m no binding for nonlocal 'x' found\n"
     ]
    }
   ],
   "source": [
    "#Variable Scope and Namespace: Keywords such as global, nonlocal, import, from, and as help in managing the scope of variables and importing modules.\n",
    "# Using import, from, and as for importing modules\n",
    "import math\n",
    "from datetime import datetime as dt\n",
    "\n",
    "print(math.sqrt(16))\n",
    "print(dt.now())\n",
    "\n",
    "# Using global and nonlocal\n",
    "x = 10\n",
    "\n",
    "def outer_function():\n",
    "    global x\n",
    "    x = 20\n",
    "\n",
    "    def inner_function():\n",
    "        nonlocal x\n",
    "        x = 30\n",
    "    \n",
    "    inner_function()\n",
    "    print(\"Inside outer_function, x =\", x)\n",
    "\n",
    "outer_function()\n",
    "print(\"Outside, x =\", x)\n"
   ]
  },
  {
   "cell_type": "code",
   "execution_count": 6,
   "id": "1c8376ef-926a-4c62-a871-496726f8b807",
   "metadata": {},
   "outputs": [
    {
     "name": "stdout",
     "output_type": "stream",
     "text": [
      "Both conditions are true\n",
      "At least one condition is true\n"
     ]
    }
   ],
   "source": [
    "#Boolean Operations: Keywords True, False, and, or, and not are used in boolean expressions.\n",
    "# Using True, False, and, or, and not\n",
    "a = True\n",
    "b = False\n",
    "\n",
    "if a and not b:\n",
    "    print(\"Both conditions are true\")\n",
    "\n",
    "if a or b:\n",
    "    print(\"At least one condition is true\")\n"
   ]
  },
  {
   "cell_type": "code",
   "execution_count": 7,
   "id": "c01730b5-b928-4a13-8eea-313a0f4de17a",
   "metadata": {},
   "outputs": [
    {
     "name": "stdout",
     "output_type": "stream",
     "text": [
      "No value provided\n",
      "Value is 10\n",
      "8\n",
      "0\n",
      "1\n",
      "2\n",
      "3\n",
      "4\n"
     ]
    }
   ],
   "source": [
    "#Miscellaneous: Other keywords include None (representing the absence of a value), lambda (for creating anonymous functions), with (for context management), and yield (for generating values in a generator).\n",
    "\n",
    "# Using None, lambda, with, and yield\n",
    "def check_value(value):\n",
    "    if value is None:\n",
    "        return \"No value provided\"\n",
    "    return f\"Value is {value}\"\n",
    "\n",
    "print(check_value(None))\n",
    "print(check_value(10))\n",
    "\n",
    "# Using lambda to create an anonymous function\n",
    "add = lambda x, y: x + y\n",
    "print(add(3, 5))\n",
    "\n",
    "# Using with for context management\n",
    "with open(\"example.txt\", \"w\") as file:\n",
    "    file.write(\"Hello, world!\")\n",
    "\n",
    "# Using yield to generate values in a generator\n",
    "def generate_numbers():\n",
    "    for i in range(5):\n",
    "        yield i\n",
    "\n",
    "for number in generate_numbers():\n",
    "    print(number)\n"
   ]
  },
  {
   "cell_type": "code",
   "execution_count": null,
   "id": "c6aa5b55-2ee5-4544-aea2-81201a9bd9e5",
   "metadata": {},
   "outputs": [],
   "source": [
    "#Compare and contrast mutable and immutable objects in Python with examples"
   ]
  },
  {
   "cell_type": "code",
   "execution_count": 8,
   "id": "826ffdbb-5932-422f-b521-a6b3de7177c7",
   "metadata": {},
   "outputs": [
    {
     "name": "stdout",
     "output_type": "stream",
     "text": [
      "[1, 2, 3]\n",
      "[10, 2, 3]\n",
      "[10, 2, 3, 4]\n"
     ]
    }
   ],
   "source": [
    "#Mutable objects can have their state or contents changed after they are created. Examples of mutable objects in Python include lists, dictionaries, sets, and byte arrays.\n",
    "#1) List\n",
    "my_list = [1, 2, 3]\n",
    "print(my_list)  # Output: [1, 2, 3]\n",
    "\n",
    "my_list[0] = 10\n",
    "print(my_list)  # Output: [10, 2, 3]\n",
    "\n",
    "my_list.append(4)\n",
    "print(my_list)  # Output: [10, 2, 3, 4]\n"
   ]
  },
  {
   "cell_type": "code",
   "execution_count": 10,
   "id": "fc98cd9b-6ebf-4d73-958d-6532351702d6",
   "metadata": {},
   "outputs": [
    {
     "name": "stdout",
     "output_type": "stream",
     "text": [
      "{'a': 1, 'b': 2}\n",
      "{'a': 10, 'b': 2}\n",
      "{'a': 10, 'b': 2, 'c': 3}\n"
     ]
    }
   ],
   "source": [
    "#2) Dictionary\n",
    "my_dict = {'a': 1, 'b': 2}\n",
    "print(my_dict)  # Output: {'a': 1, 'b': 2}\n",
    "\n",
    "my_dict['a'] = 10\n",
    "print(my_dict)  # Output: {'a': 10, 'b': 2}\n",
    "\n",
    "my_dict['c'] = 3\n",
    "print(my_dict)  # Output: {'a': 10, 'b': 2, 'c': 3}\n"
   ]
  },
  {
   "cell_type": "code",
   "execution_count": 11,
   "id": "864f4587-d3da-4af9-86af-bf7b98587279",
   "metadata": {},
   "outputs": [
    {
     "name": "stdout",
     "output_type": "stream",
     "text": [
      "hello\n",
      "Hello\n"
     ]
    }
   ],
   "source": [
    "#3)Immutable objects cannot have their state or contents changed after they are created. Examples of immutable objects in Python include integers, floats, strings, tuples, and frozensets.\n",
    "#1) Strings:\n",
    "my_string = \"hello\"\n",
    "print(my_string)  # Output: hello\n",
    "\n",
    "# Attempting to change a character results in an error\n",
    "# my_string[0] = 'H'  # This will raise a TypeError\n",
    "\n",
    "# Instead, you create a new string\n",
    "new_string = 'H' + my_string[1:]\n",
    "print(new_string)  # Output: Hello\n"
   ]
  },
  {
   "cell_type": "code",
   "execution_count": 12,
   "id": "051cb40c-1828-4cc0-aa92-c5501e0cc67c",
   "metadata": {},
   "outputs": [
    {
     "name": "stdout",
     "output_type": "stream",
     "text": [
      "(1, 2, 3)\n",
      "(10, 2, 3)\n"
     ]
    }
   ],
   "source": [
    "#2) Tuple:\n",
    "my_tuple = (1, 2, 3)\n",
    "print(my_tuple)  # Output: (1, 2, 3)\n",
    "\n",
    "# Attempting to change a value results in an error\n",
    "# my_tuple[0] = 10  # This will raise a TypeError\n",
    "\n",
    "# Instead, you create a new tuple\n",
    "new_tuple = (10,) + my_tuple[1:]\n",
    "print(new_tuple)  # Output: (10, 2, 3)\n"
   ]
  },
  {
   "cell_type": "code",
   "execution_count": null,
   "id": "60c04cf5-ce72-4ee5-a690-60fe1374b2df",
   "metadata": {},
   "outputs": [],
   "source": [
    "#Discuss the different types of operators in Python and provide examples of how they are used"
   ]
  },
  {
   "cell_type": "code",
   "execution_count": null,
   "id": "e70cb4a1-6380-4964-b68b-72a263737df7",
   "metadata": {},
   "outputs": [],
   "source": [
    "#Python has a wide range of operators that allow you to perform various operations on variables and values. Here are the main types of operators in Python along with examples of how they are used:"
   ]
  },
  {
   "cell_type": "code",
   "execution_count": 13,
   "id": "baf1e237-04de-433c-88b2-68b0edaf675c",
   "metadata": {},
   "outputs": [
    {
     "name": "stdout",
     "output_type": "stream",
     "text": [
      "13\n",
      "7\n",
      "30\n",
      "3.3333333333333335\n",
      "1\n",
      "1000\n",
      "3\n"
     ]
    }
   ],
   "source": [
    "# Arithematic Operator\n",
    "a = 10\n",
    "b = 3\n",
    "\n",
    "print(a + b)  # Output: 13\n",
    "print(a - b)  # Output: 7\n",
    "print(a * b)  # Output: 30\n",
    "print(a / b)  # Output: 3.3333333333333335\n",
    "print(a % b)  # Output: 1\n",
    "print(a ** b) # Output: 1000\n",
    "print(a // b) # Output: 3\n"
   ]
  },
  {
   "cell_type": "code",
   "execution_count": 14,
   "id": "f37f2ecf-7130-4db5-8337-951f5c1dc937",
   "metadata": {},
   "outputs": [
    {
     "name": "stdout",
     "output_type": "stream",
     "text": [
      "False\n",
      "True\n",
      "True\n",
      "False\n",
      "True\n",
      "False\n"
     ]
    }
   ],
   "source": [
    "#Comparison (Relational) Operators\n",
    "a = 10\n",
    "b = 3\n",
    "\n",
    "print(a == b)  # Output: False\n",
    "print(a != b)  # Output: True\n",
    "print(a > b)   # Output: True\n",
    "print(a < b)   # Output: False\n",
    "print(a >= b)  # Output: True\n",
    "print(a <= b)  # Output: False\n"
   ]
  },
  {
   "cell_type": "code",
   "execution_count": 15,
   "id": "c6326bc6-d65a-40ea-8032-72de70d6335f",
   "metadata": {},
   "outputs": [
    {
     "name": "stdout",
     "output_type": "stream",
     "text": [
      "False\n",
      "True\n",
      "False\n"
     ]
    }
   ],
   "source": [
    "#Logical Operators\n",
    "a = True\n",
    "b = False\n",
    "\n",
    "print(a and b)  # Output: False\n",
    "print(a or b)   # Output: True\n",
    "print(not a)    # Output: False\n"
   ]
  },
  {
   "cell_type": "code",
   "execution_count": 16,
   "id": "29da876c-21eb-4dcb-95e1-8dbafa30a3ab",
   "metadata": {},
   "outputs": [
    {
     "name": "stdout",
     "output_type": "stream",
     "text": [
      "13\n",
      "10\n",
      "30\n",
      "10.0\n",
      "1.0\n",
      "1.0\n",
      "0.0\n"
     ]
    }
   ],
   "source": [
    "#Assignment Operators\n",
    "a = 10\n",
    "b = 3\n",
    "\n",
    "a += b  # Equivalent to a = a + b\n",
    "print(a)  # Output: 13\n",
    "\n",
    "a -= b  # Equivalent to a = a - b\n",
    "print(a)  # Output: 10\n",
    "\n",
    "a *= b  # Equivalent to a = a * b\n",
    "print(a)  # Output: 30\n",
    "\n",
    "a /= b  # Equivalent to a = a / b\n",
    "print(a)  # Output: 10.0\n",
    "\n",
    "a %= b  # Equivalent to a = a % b\n",
    "print(a)  # Output: 1.0\n",
    "\n",
    "a **= b  # Equivalent to a = a ** b\n",
    "print(a)  # Output: 1.0\n",
    "\n",
    "a //= b  # Equivalent to a = a // b\n",
    "print(a)  # Output: 0.0\n"
   ]
  },
  {
   "cell_type": "code",
   "execution_count": 17,
   "id": "85bfefbc-c543-46ee-a9ee-47024ef081a4",
   "metadata": {},
   "outputs": [
    {
     "name": "stdout",
     "output_type": "stream",
     "text": [
      "2\n",
      "11\n",
      "9\n",
      "-11\n",
      "20\n",
      "5\n"
     ]
    }
   ],
   "source": [
    "#Bitwise Operators\n",
    "a = 10  # Binary: 1010\n",
    "b = 3   # Binary: 0011\n",
    "\n",
    "print(a & b)  # Output: 2  (Binary: 0010)\n",
    "print(a | b)  # Output: 11 (Binary: 1011)\n",
    "print(a ^ b)  # Output: 9  (Binary: 1001)\n",
    "print(~a)     # Output: -11 (Binary: -1011)\n",
    "print(a << 1) # Output: 20 (Binary: 10100)\n",
    "print(a >> 1) # Output: 5  (Binary: 0101)\n"
   ]
  },
  {
   "cell_type": "code",
   "execution_count": 18,
   "id": "c3129094-dc06-4d4b-9175-a7201e2a6191",
   "metadata": {},
   "outputs": [
    {
     "name": "stdout",
     "output_type": "stream",
     "text": [
      "True\n",
      "False\n",
      "True\n"
     ]
    }
   ],
   "source": [
    "#Identity Operators\n",
    "a = [1, 2, 3]\n",
    "b = a\n",
    "c = [1, 2, 3]\n",
    "\n",
    "print(a is b)     # Output: True\n",
    "print(a is c)     # Output: False\n",
    "print(a is not c) # Output: True\n"
   ]
  },
  {
   "cell_type": "code",
   "execution_count": 19,
   "id": "a8b5a3ad-6bfb-4b08-b33b-ff1a572b05e0",
   "metadata": {},
   "outputs": [
    {
     "name": "stdout",
     "output_type": "stream",
     "text": [
      "True\n",
      "True\n",
      "True\n",
      "True\n"
     ]
    }
   ],
   "source": [
    "#Membership Operators\n",
    "my_list = [1, 2, 3, 4, 5]\n",
    "\n",
    "print(3 in my_list)      # Output: True\n",
    "print(6 not in my_list)  # Output: True\n",
    "\n",
    "my_string = \"hello\"\n",
    "print('h' in my_string)      # Output: True\n",
    "print('z' not in my_string)  # Output: True\n"
   ]
  },
  {
   "cell_type": "code",
   "execution_count": null,
   "id": "c76e6001-5a30-4af0-8064-e9322c29ce24",
   "metadata": {},
   "outputs": [],
   "source": [
    "#Type casting, or type conversion, in Python refers to the process of converting a variable from one data type to another. This is useful when you need to perform operations that require a specific data type. Python provides several built-in functions to perform explicit type casting."
   ]
  },
  {
   "cell_type": "code",
   "execution_count": 20,
   "id": "67cfecc5-6bf2-4b2c-bc5b-c314d0cf146a",
   "metadata": {},
   "outputs": [
    {
     "name": "stdout",
     "output_type": "stream",
     "text": [
      "13.14\n",
      "<class 'float'>\n"
     ]
    }
   ],
   "source": [
    "#Implicit type casting:-Python automatically converts one data type to another when performing operations involving mixed data types. This is done to prevent data loss and ensure that operations are performed correctly.\n",
    "# Implicit type casting\n",
    "num_int = 10       # Integer\n",
    "num_float = 3.14   # Float\n",
    "\n",
    "# Adding integer and float results in a float\n",
    "result = num_int + num_float\n",
    "print(result)      # Output: 13.14\n",
    "print(type(result)) # Output: <class 'float'>\n",
    "\n"
   ]
  },
  {
   "cell_type": "code",
   "execution_count": 21,
   "id": "a4422a9a-e8e9-4a4a-bf39-7b9067a61eb0",
   "metadata": {},
   "outputs": [
    {
     "data": {
      "text/plain": [
       "\"Explicit type casting is done using Python's built-in functions:\\n\\nint(): Converts a value to an integer.\\nfloat(): Converts a value to a float.\\nstr(): Converts a value to a string.\\nlist(): Converts a value to a list.\\ntuple(): Converts a value to a tuple.\\nset(): Converts a value to a set.\\ndict(): Converts a value to a dictionary (requires a sequence of key-value pairs).\""
      ]
     },
     "execution_count": 21,
     "metadata": {},
     "output_type": "execute_result"
    }
   ],
   "source": [
    "'''Explicit type casting is done using Python's built-in functions:\n",
    "\n",
    "int(): Converts a value to an integer.\n",
    "float(): Converts a value to a float.\n",
    "str(): Converts a value to a string.\n",
    "list(): Converts a value to a list.\n",
    "tuple(): Converts a value to a tuple.\n",
    "set(): Converts a value to a set.\n",
    "dict(): Converts a value to a dictionary (requires a sequence of key-value pairs).'''\n",
    "\n"
   ]
  },
  {
   "cell_type": "code",
   "execution_count": null,
   "id": "3e27147a-b9d6-4118-9711-c3213ef6ebc8",
   "metadata": {},
   "outputs": [],
   "source": [
    "#How do conditional statements work in Python? Illustrate with examples"
   ]
  },
  {
   "cell_type": "code",
   "execution_count": null,
   "id": "0fe84db9-bbc0-480b-918a-7a8782e993cc",
   "metadata": {},
   "outputs": [],
   "source": [
    "#Conditional statements in Python allow you to execute code blocks based on whether a condition is true or false. The primary conditional statements are if, elif, and else"
   ]
  },
  {
   "cell_type": "code",
   "execution_count": 1,
   "id": "da092ba2-093a-4f7f-8184-9082cfe567eb",
   "metadata": {},
   "outputs": [
    {
     "name": "stdout",
     "output_type": "stream",
     "text": [
      "The number is positive\n"
     ]
    }
   ],
   "source": [
    "#if Statement\n",
    "number = 5\n",
    "\n",
    "if number > 0:\n",
    "    print(\"The number is positive\")\n"
   ]
  },
  {
   "cell_type": "code",
   "execution_count": 2,
   "id": "0667db12-6518-4aa1-ae37-3469aa88bf50",
   "metadata": {},
   "outputs": [
    {
     "name": "stdout",
     "output_type": "stream",
     "text": [
      "The number is not positive\n"
     ]
    }
   ],
   "source": [
    "#if-else Statement\n",
    "number = -3\n",
    "\n",
    "if number > 0:\n",
    "    print(\"The number is positive\")\n",
    "else:\n",
    "    print(\"The number is not positive\")\n"
   ]
  },
  {
   "cell_type": "code",
   "execution_count": 3,
   "id": "84e3c0ee-9535-4c6d-9420-9f289ce6e140",
   "metadata": {},
   "outputs": [
    {
     "name": "stdout",
     "output_type": "stream",
     "text": [
      "The number is zero\n"
     ]
    }
   ],
   "source": [
    "#if-elif-else Statement\n",
    "number = 0\n",
    "\n",
    "if number > 0:\n",
    "    print(\"The number is positive\")\n",
    "elif number == 0:\n",
    "    print(\"The number is zero\")\n",
    "else:\n",
    "    print(\"The number is negative\")\n"
   ]
  },
  {
   "cell_type": "code",
   "execution_count": 4,
   "id": "3f583016-c4c7-4114-8405-0665c44c2f63",
   "metadata": {},
   "outputs": [
    {
     "name": "stdout",
     "output_type": "stream",
     "text": [
      "The number is positive and odd\n"
     ]
    }
   ],
   "source": [
    "#Nested Statement\n",
    "#You can also nest conditional statements inside other conditional statements.\n",
    "number = 15\n",
    "\n",
    "if number > 0:\n",
    "    if number % 2 == 0:\n",
    "        print(\"The number is positive and even\")\n",
    "    else:\n",
    "        print(\"The number is positive and odd\")\n",
    "else:\n",
    "    print(\"The number is not positive\")\n"
   ]
  },
  {
   "cell_type": "code",
   "execution_count": null,
   "id": "e57e9383-cbbe-4daf-b630-697b1c43b6d2",
   "metadata": {},
   "outputs": [],
   "source": [
    "#Describe the different types of loops in Python and their use cases with examples"
   ]
  },
  {
   "cell_type": "code",
   "execution_count": null,
   "id": "0b8d23d5-5750-4529-bf96-4ed2fde02102",
   "metadata": {},
   "outputs": [],
   "source": [
    "#In Python, there are primarily two types of loops: for loops and while loops. Each type of loop is used for different scenarios depending on the nature of the task."
   ]
  },
  {
   "cell_type": "code",
   "execution_count": null,
   "id": "30a96f33-254d-4636-b54f-723c5b2b6756",
   "metadata": {},
   "outputs": [],
   "source": [
    "#A for loop is used for iterating over a sequence (such as a list, tuple, dictionary, set, or string) or any other iterable object. The loop iterates over each item in the sequence and executes a block of code."
   ]
  },
  {
   "cell_type": "code",
   "execution_count": 5,
   "id": "65104334-e377-4251-b01e-251d902cf660",
   "metadata": {},
   "outputs": [
    {
     "name": "stdout",
     "output_type": "stream",
     "text": [
      "apple\n",
      "banana\n",
      "cherry\n"
     ]
    }
   ],
   "source": [
    "#Iterating over list using for loop\n",
    "fruits = [\"apple\", \"banana\", \"cherry\"]\n",
    "\n",
    "for fruit in fruits:\n",
    "    print(fruit)\n"
   ]
  },
  {
   "cell_type": "code",
   "execution_count": 6,
   "id": "b3ad3d55-967e-4a74-a043-da9ce4de106f",
   "metadata": {},
   "outputs": [
    {
     "name": "stdout",
     "output_type": "stream",
     "text": [
      "Alice scored 85\n",
      "Bob scored 92\n",
      "Charlie scored 78\n"
     ]
    }
   ],
   "source": [
    "#Iterating over dictionary using for loop\n",
    "student_scores = {\"Alice\": 85, \"Bob\": 92, \"Charlie\": 78}\n",
    "\n",
    "for student, score in student_scores.items():\n",
    "    print(f\"{student} scored {score}\")\n"
   ]
  },
  {
   "cell_type": "code",
   "execution_count": 7,
   "id": "a0318014-5677-4a03-8526-e88f68dec4b6",
   "metadata": {},
   "outputs": [
    {
     "name": "stdout",
     "output_type": "stream",
     "text": [
      "0\n",
      "1\n",
      "2\n",
      "3\n",
      "4\n"
     ]
    }
   ],
   "source": [
    "#Iterating over range of numbers using for loop\n",
    "for i in range(5):\n",
    "    print(i)\n"
   ]
  },
  {
   "cell_type": "code",
   "execution_count": null,
   "id": "d9fedb6f-45f4-496e-b251-671f15bf5526",
   "metadata": {},
   "outputs": [],
   "source": [
    "#while loop:- repeatedly executes a block of code as long as a given condition is true. The condition is evaluated before each iteration, and if it remains true, the loop continues."
   ]
  },
  {
   "cell_type": "code",
   "execution_count": 8,
   "id": "2bd290d6-42b2-4ee0-a746-fd79259382ab",
   "metadata": {},
   "outputs": [
    {
     "name": "stdout",
     "output_type": "stream",
     "text": [
      "0\n",
      "1\n",
      "2\n",
      "3\n",
      "4\n"
     ]
    }
   ],
   "source": [
    "#Simple while loop \n",
    "count = 0\n",
    "\n",
    "while count < 5:\n",
    "    print(count)\n",
    "    count += 1\n"
   ]
  },
  {
   "cell_type": "code",
   "execution_count": 9,
   "id": "a7d34eea-5b12-4d21-98a4-1ebc738974a0",
   "metadata": {},
   "outputs": [
    {
     "name": "stdout",
     "output_type": "stream",
     "text": [
      "1 2 3 \n",
      "4 5 6 \n",
      "7 8 9 \n"
     ]
    }
   ],
   "source": [
    "#Both while and for loop can be used as a nested loop also.\n",
    "matrix = [\n",
    "    [1, 2, 3],\n",
    "    [4, 5, 6],\n",
    "    [7, 8, 9]\n",
    "]\n",
    "\n",
    "for row in matrix:\n",
    "    for element in row:\n",
    "        print(element, end=\" \")\n",
    "    print()\n"
   ]
  },
  {
   "cell_type": "code",
   "execution_count": null,
   "id": "d5f39eea-edc0-4aa7-8dd6-664aa45d824a",
   "metadata": {},
   "outputs": [],
   "source": [
    "#loop control Statements:- break,continue and else can be used with both for and while loop depending upon use\n",
    "#Break:- It is used to exit the loop based on whether it meet the specified condition before completion of the loop.\n",
    "#Continue:-It skips the sequence of a body of loop if the speciified condition met for that particular value.\n",
    "#else: Executes a block of code once when the loop condition is no longer true (only for for and while loops, and not if the loop is exited with a bre"
   ]
  },
  {
   "cell_type": "code",
   "execution_count": 10,
   "id": "d75eddc2-1a51-4235-abd2-6874ac3e972e",
   "metadata": {},
   "outputs": [
    {
     "name": "stdout",
     "output_type": "stream",
     "text": [
      "1\n",
      "3\n"
     ]
    }
   ],
   "source": [
    "for i in range(10):\n",
    "    if i == 5:\n",
    "        break\n",
    "    if i % 2 == 0:\n",
    "        continue\n",
    "    print(i)\n"
   ]
  },
  {
   "cell_type": "code",
   "execution_count": null,
   "id": "8870dead-5da2-4a09-8fa8-cd9f23402aec",
   "metadata": {},
   "outputs": [],
   "source": []
  }
 ],
 "metadata": {
  "kernelspec": {
   "display_name": "Python 3 (ipykernel)",
   "language": "python",
   "name": "python3"
  },
  "language_info": {
   "codemirror_mode": {
    "name": "ipython",
    "version": 3
   },
   "file_extension": ".py",
   "mimetype": "text/x-python",
   "name": "python",
   "nbconvert_exporter": "python",
   "pygments_lexer": "ipython3",
   "version": "3.10.8"
  }
 },
 "nbformat": 4,
 "nbformat_minor": 5
}
