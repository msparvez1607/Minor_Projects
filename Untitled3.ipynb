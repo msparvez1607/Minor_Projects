{
 "cells": [
  {
   "cell_type": "code",
   "execution_count": 1,
   "id": "433582cf-8e3c-4081-9448-7a9c49f55a48",
   "metadata": {},
   "outputs": [],
   "source": [
    "class Book:\n",
    "    def __init__(self,name,author,title):\n",
    "        self.name=name\n",
    "        self.author=author\n",
    "        self.title=title\n",
    "    def about_book(self):\n",
    "        n=self.name\n",
    "        a=self.author\n",
    "        t=self.title\n",
    "        print(f'Book is {n} written by {a} having title {t}')"
   ]
  },
  {
   "cell_type": "code",
   "execution_count": 3,
   "id": "867b82f9-4bdd-4f5b-a1e3-f2b1dd6e8edc",
   "metadata": {},
   "outputs": [
    {
     "name": "stdout",
     "output_type": "stream",
     "text": [
      "Book is MERCHANT OF VENICE written by W.Shakespeare having title PLAY\n",
      "Book is Avatar written by Champaklal having title Different world\n"
     ]
    }
   ],
   "source": [
    "b1=Book('MERCHANT OF VENICE','W.Shakespeare','PLAY')\n",
    "b1.about_book()\n",
    "b2=Book('Avatar','Champaklal','Different world')\n",
    "b2.about_book()"
   ]
  },
  {
   "cell_type": "code",
   "execution_count": null,
   "id": "4289e0ed-2e36-4b7e-945f-30198e61a571",
   "metadata": {},
   "outputs": [],
   "source": []
  }
 ],
 "metadata": {
  "kernelspec": {
   "display_name": "Python 3 (ipykernel)",
   "language": "python",
   "name": "python3"
  },
  "language_info": {
   "codemirror_mode": {
    "name": "ipython",
    "version": 3
   },
   "file_extension": ".py",
   "mimetype": "text/x-python",
   "name": "python",
   "nbconvert_exporter": "python",
   "pygments_lexer": "ipython3",
   "version": "3.10.8"
  }
 },
 "nbformat": 4,
 "nbformat_minor": 5
}
